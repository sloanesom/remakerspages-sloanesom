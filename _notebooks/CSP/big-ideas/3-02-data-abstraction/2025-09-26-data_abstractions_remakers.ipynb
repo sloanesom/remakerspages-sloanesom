{
 "cells": [
  {
   "cell_type": "markdown",
   "id": "7357d0fa",
   "metadata": {},
   "source": [
    "---\n",
    "toc: true\n",
    "comments: false\n",
    "layout: post\n",
    "categories: [CSP Big Idea 3]\n",
    "title: 3.2 Data Abstractions \n",
    "author: Jaynee Chauhan, Michelle Ji, Lucas Masterson\n",
    "description: Intro to data abstractions in Python and JS.\n",
    "type: ccc\n",
    "permalink: /csp/big-idea-3/data-abstractions/p4/introduction\n",
    "---"
   ]
  },
  {
   "cell_type": "markdown",
   "id": "2a6269e4",
   "metadata": {},
   "source": [
    "## Learning Objectives\n",
    "\n",
    "> 3.A Generalize data sources through variables.  \n",
    "> \n",
    "> 3.B Use abstraction to manage complexity in a program.\n",
    "> \n",
    "> 3.C Explain how abstraction manages complexity."
   ]
  },
  {
   "cell_type": "markdown",
   "id": "100dde50",
   "metadata": {},
   "source": [
    "## Data Abstractions\n",
    "\n",
    "Data abstraction means *treating collections of values as a single unit* (like a list, array, or string), so you don’t have to think about all the small details every time you use them. This manages complexity by letting us use a name (like `numbers`) instead of repeatedly referencing each individual element.\n",
    "\n",
    "For example, in Python:\n",
    "\n",
    "```py\n",
    "# A list in Python\n",
    "numbers = [10, 20, 30, 40]\n",
    "\n",
    "# Access by index (0-based in Python)\n",
    "print(numbers[0]) # 10\n",
    "print(numbers[2]) # 30\n",
    "\n",
    "# Strings work similarly\n",
    "word = \"hello\"\n",
    "print(word[1]) # 'e'\n",
    "```\n",
    "\n",
    "or in JavaScript:\n",
    "\n",
    "```js\n",
    "// An array in JavaScript\n",
    "let numbers = [10, 20, 30, 40];\n",
    "\n",
    "console.log(numbers[0]); // 10\n",
    "console.log(numbers[2]); // 30\n",
    "\n",
    "// Strings are also indexable\n",
    "let word = \"hello\";\n",
    "console.log(word[1]); // 'e'\n",
    "```"
   ]
  },
  {
   "cell_type": "markdown",
   "id": "68dad0c4",
   "metadata": {},
   "source": [
    "## Using Abstractions to Manage Complexity\n",
    "\n",
    "Instead of writing code for each item, we use loops and functions to work with lists.\n",
    "\n",
    "For example, in Python, we could iterate over a list and find the average of its elements:\n",
    "\n",
    "```py\n",
    "scores = [85, 92, 78, 90]\n",
    "\n",
    "# Sum with a loop\n",
    "total = 0\n",
    "for score in scores:\n",
    "    total += score\n",
    "print(\"Average:\", total / len(scores)) # 86.25\n",
    "```\n",
    "\n",
    "and in JS:\n",
    "\n",
    "```js\n",
    "let scores = [85, 92, 78, 90];\n",
    "\n",
    "// Using a loop\n",
    "let total = 0;\n",
    "for (let score of scores) {\n",
    "    total += score;\n",
    "}\n",
    "console.log(\"Average:\", total / scores.length);\n",
    "```"
   ]
  },
  {
   "cell_type": "markdown",
   "id": "c76c2890",
   "metadata": {},
   "source": [
    "## How Abstraction Manages Complexity\n",
    "\n",
    "Instead of thinking about *every score individually*, you can use the abstraction \"list of scores.\"\n",
    "- With a name (`scores`), you manipulate the entire group.\n",
    "- You don't need to worry about how the list is stored in memory.\n",
    "- Functions and loops let you work with the *concept* of a collection, not every detail.\n",
    "\n",
    "What we mean by the last part may be a bit more understandable in some examples of benefits.\n",
    "- Easier maintenance (add/remove scores without rewriting logic over and over again).\n",
    "- Reusable functions (average can work for any list of numbers).\n",
    "- Clearer code (you read \"average of scores\" instead of `score1 + score2 + score3 + ...`)."
   ]
  },
  {
   "cell_type": "markdown",
   "id": "25b10264",
   "metadata": {},
   "source": [
    "## Nuances\n",
    "\n",
    "Remember that Python and JS both use 0-based indexing, which means that the first element of a list/array/string is at index 0 (like we showed before)."
   ]
  },
  {
   "cell_type": "markdown",
   "id": "e7b1e6cb",
   "metadata": {},
   "source": [
    "## Quick Facts (From AP)\n",
    "\n",
    "- A *list* is an ordered sequence of elements. For example, `[value1, value2, value3, ...]` describes a list where `value1` is the first element, `value2` is the second element, and `value3` is the third element, and so on.\n",
    "- An *element* is an individual value in a list that is assigned a unique index.\n",
    "- An *index* is a common method for referencing the elements ina  list or string using natural numbers.\n",
    "- A *string* is an ordered sequence of characters.\n",
    "- Data abstraction provides a separation between the abstract properties of a data type and the concrete details of its representation.\n",
    "- Data abstractions manage complexity in programs by giving a collection of data a name without referencing the specific details of the  representation.\n",
    "- Data abstractions can be created using lists.\n",
    "- Developing a data abstraction to implement in a program can result in a program that is easier to develop and maintain.\n",
    "- Data abstractions often contain different types of elements.\n",
    "- The use of lists allows multiple related items to be treated as a single value. Lists are referred to by different names such as array, depending on the programming language.\n",
    "- **For AP, lists are 1-indexed!**"
   ]
  }
 ],
 "metadata": {
  "kernelspec": {
   "display_name": "venv",
   "language": "python",
   "name": "python3"
  },
  "language_info": {
   "codemirror_mode": {
    "name": "ipython",
    "version": 3
   },
   "file_extension": ".py",
   "mimetype": "text/x-python",
   "name": "python",
   "nbconvert_exporter": "python",
   "pygments_lexer": "ipython3",
   "version": "3.13.7"
  }
 },
 "nbformat": 4,
 "nbformat_minor": 5
}
