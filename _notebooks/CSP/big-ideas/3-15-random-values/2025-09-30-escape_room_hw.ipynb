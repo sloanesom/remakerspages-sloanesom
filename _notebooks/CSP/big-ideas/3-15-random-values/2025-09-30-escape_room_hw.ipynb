{
 "cells": [
  {
   "cell_type": "raw",
   "id": "6e07d1a7",
   "metadata": {},
   "source": [
    "---\n",
    "layout: post\n",
    "title: \"Escape Room 3.15 - Hacks & Extensions\"\n",
    "description: \"Extended challenges and hacks for CSP 3.15 Escape Room - Random Values\"\n",
    "type: hacks\n",
    "toc: true\n",
    "comments: true\n",
    "permalink: /3.15/homework\n",
    "author: Team Debuggers\n",
    "---\n"
   ]
  },
  {
   "cell_type": "markdown",
   "id": "9f874417",
   "metadata": {},
   "source": [
    "# 🚀 Escape Room Hacks & Extensions\n",
    "\n",
    "<div style=\"background: linear-gradient(135deg, #6bb3ffff 0%, #24ee50ff 100%); color: white; padding: 20px; border-radius: 10px; text-align: center; margin: 20px 0;\">\n",
    "    <h2 style=\"margin: 0;\">💎 Master Level Challenges 💎</h2>\n",
    "    <p style=\"margin: 10px 0;\">Go beyond the escape room with advanced Random Value challenges!</p>\n",
    "</div>\n"
   ]
  },
  {
   "cell_type": "markdown",
   "id": "ca25df93",
   "metadata": {},
   "source": [
    "## 📋 Overview\n",
    "\n",
    "Congratulations on completing the escape room! These hacks are designed to:\n",
    "\n",
    "1. **Extend your learning** with more advanced algorithms\n",
    "2. **Apply concepts** to real-world scenarios\n",
    "3. **Create your own** string manipulation challenges\n",
    "4. **Explore optimization** and algorithm design\n",
    "\n",
    "### 🎯 Hack Categories:\n",
    "\n",
    "- **🔥 Fire Hacks**: Required challenges (choose 2/3)\n",
    "- **💎 Diamond Hacks**: Advanced optional challenges\n",
    "- **🎨 Creative Hacks**: Design your own problems\n",
    "\n",
    "---\n"
   ]
  },
  {
   "cell_type": "markdown",
   "id": "d97adba3",
   "metadata": {},
   "source": [
    "## Hacks\n",
    "\n",
    "## 🔥 Fire Hacks (choose 2/6)\n"
   ]
  },
  {
   "cell_type": "markdown",
   "id": "6e5c8bef",
   "metadata": {},
   "source": [
    "### Python Version Questions\n",
    "\n",
    "1. Write the description of random_range(start, end)\n",
    "```python\n",
    "# Describe what this function does and its parameters\n",
    "```\n",
    "\n",
    "2. Simulate rolling two dice and show all possible sum outcomes\n",
    "```python\n",
    "# Die faces: 1, 2, 3, 4, 5, 6\n",
    "# Write code to show all possible sums when rolling two dice\n",
    "```\n",
    "\n",
    "3. Create a fortune teller where \"Try Again\" appears 40% of the time\n",
    "```python\n",
    "# Other responses: \"Yes\", \"No\", \"Maybe\"\n",
    "# Write code where \"Try Again\" has 40% probability\n",
    "```\n",
    "\n",
    "4. If we run random.randint(1,10) 1000 times, about how many 3's would we expect?\n",
    "\n",
    "5. What is the difference between random.randint(a,b) and random.choice(list)? Give an example of each.\n",
    "\n",
    "6. Write a Python code that rolls 2 dice and prints their sum."
   ]
  },
  {
   "cell_type": "code",
   "execution_count": null,
   "id": "d57301af",
   "metadata": {},
   "outputs": [],
   "source": []
  },
  {
   "cell_type": "markdown",
   "id": "76c29724",
   "metadata": {},
   "source": [
    "### JavaScript Version Questions\n",
    "\n",
    "1. Write the description of getRandomInRange(min, max)\n",
    "```javascript\n",
    "//Describe what this function does and its parameters\n",
    "```\n",
    "\n",
    "2. Simulate drawing two cards from values 1-10 and show all possible total values\n",
    "```javascript\n",
    "// Card values: 1 through 10\n",
    "// Write code to show all possible totals when drawing two cards\n",
    "```\n",
    "\n",
    "3. Create a decision maker where \"Definitely\" appears 30% of the time\n",
    "```javascript\n",
    "// Other responses: \"Probably\", \"Unlikely\", \"Never\"\n",
    "// Write code where \"Definitely\" has 30% probability\n",
    "```\n",
    "\n",
    "4. Write JavaScript code to simulate 10 coin flips, where 0 = Heads and 1 = Tails.\n",
    "\n",
    "5. What does this code output, and what is the range of the possible values?\n",
    "\n",
    "JS\n",
    "\n",
    "let num = Math.floor(Math.random() * 8) + 1;\n",
    "\n",
    "console.log(num);"
   ]
  },
  {
   "cell_type": "code",
   "execution_count": null,
   "id": "e2fc7350",
   "metadata": {
    "vscode": {
     "languageId": "javascript"
    }
   },
   "outputs": [],
   "source": []
  }
 ],
 "metadata": {
  "kernelspec": {
   "display_name": "venv (3.12.3)",
   "language": "python",
   "name": "python3"
  },
  "language_info": {
   "name": "python",
   "version": "3.12.3"
  }
 },
 "nbformat": 4,
 "nbformat_minor": 5
}
